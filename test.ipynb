{
 "cells": [
  {
   "cell_type": "code",
   "execution_count": 17,
   "metadata": {},
   "outputs": [],
   "source": [
    "from Crypto.Cipher import AES\n",
    "from json import dumps, loads\n",
    "\n",
    "dictionary = {\n",
    "    \"thing\": \"result\"\n",
    "}\n",
    "\n",
    "data = bytes(dumps(dictionary), encoding=\"utf-8\")\n",
    "\n",
    "key = b\"awejldfhsdlfjask\"\n",
    "\n",
    "cipher = AES.new(key, AES.MODE_EAX)\n",
    "ciphertext, tag = cipher.encrypt_and_digest(data)\n",
    "\n",
    "#file_out = open(\"encrypted.bin\", \"wb\")\n",
    "#[ file_out.write(x) for x in (cipher.nonce, tag, ciphertext) ]\n",
    "#file_out.close()\n",
    "\n",
    "total_bytes = cipher.nonce + tag + ciphertext"
   ]
  },
  {
   "cell_type": "code",
   "execution_count": 19,
   "metadata": {},
   "outputs": [
    {
     "data": {
      "text/plain": [
       "{'thing': 'result'}"
      ]
     },
     "execution_count": 19,
     "metadata": {},
     "output_type": "execute_result"
    }
   ],
   "source": [
    "#file_in = open(\"encrypted.bin\", \"rb\")\n",
    "#nonce, tag, ciphertext = [ file_in.read(x) for x in (16, 16, -1) ]\n",
    "#file_in.close()\n",
    "\n",
    "nonce, tag, ciphertext = total_bytes[:16], total_bytes[16:32], total_bytes[32:]\n",
    "\n",
    "# let's assume that the key is somehow available again\n",
    "cipher = AES.new(key, AES.MODE_EAX, nonce)\n",
    "data = cipher.decrypt_and_verify(ciphertext, tag)\n",
    "\n",
    "dictionary_result = loads(data.decode(encoding=\"utf-8\"))\n",
    "dictionary_result"
   ]
  },
  {
   "cell_type": "code",
   "execution_count": null,
   "metadata": {},
   "outputs": [],
   "source": []
  }
 ],
 "metadata": {
  "kernelspec": {
   "display_name": ".venv",
   "language": "python",
   "name": "python3"
  },
  "language_info": {
   "codemirror_mode": {
    "name": "ipython",
    "version": 3
   },
   "file_extension": ".py",
   "mimetype": "text/x-python",
   "name": "python",
   "nbconvert_exporter": "python",
   "pygments_lexer": "ipython3",
   "version": "3.12.0"
  }
 },
 "nbformat": 4,
 "nbformat_minor": 2
}
